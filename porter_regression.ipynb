{
  "nbformat": 4,
  "nbformat_minor": 0,
  "metadata": {
    "colab": {
      "provenance": [],
      "authorship_tag": "ABX9TyOPGORdsgcXYhvA+XkhYeOe",
      "include_colab_link": true
    },
    "kernelspec": {
      "name": "python3",
      "display_name": "Python 3"
    },
    "language_info": {
      "name": "python"
    }
  },
  "cells": [
    {
      "cell_type": "markdown",
      "metadata": {
        "id": "view-in-github",
        "colab_type": "text"
      },
      "source": [
        "<a href=\"https://colab.research.google.com/github/Meera-Ajay-25/Machine-Learning-projects/blob/main/porter_regression.ipynb\" target=\"_parent\"><img src=\"https://colab.research.google.com/assets/colab-badge.svg\" alt=\"Open In Colab\"/></a>"
      ]
    },
    {
      "cell_type": "markdown",
      "source": [
        "Project 2: **Porter delivery time estimation**\n",
        "\n",
        "Algorithm Used: **Multiple regression**\n",
        "\n",
        "Steps:\n",
        "\n",
        "\n",
        "*   Loading the dataset using pandas library\n",
        "*   preprocessing the dataset using Excel.\n",
        "\n",
        "\n",
        "*   Splitting the dataset\n",
        "*   Model building using Multiple regression Algorithm\n",
        "\n",
        "\n",
        "*   Model testing using MSE,MAE,R2-SCORE,RMSE\n",
        "\n",
        "\n",
        "\n",
        "\n",
        "\n",
        "\n",
        "\n",
        "\n"
      ],
      "metadata": {
        "id": "qRRuSfJ-1P0N"
      }
    },
    {
      "cell_type": "code",
      "source": [
        "#Loading the dataset using python library\n",
        "import pandas as pd\n",
        "df=pd.read_csv(\"/content/porter1.csv\")\n",
        "df"
      ],
      "metadata": {
        "colab": {
          "base_uri": "https://localhost:8080/",
          "height": 487
        },
        "id": "c4yPNNo5tRzT",
        "outputId": "7bc7efc5-0cb4-4c99-f418-c6502b22e1b3"
      },
      "execution_count": 19,
      "outputs": [
        {
          "output_type": "execute_result",
          "data": {
            "text/plain": [
              "        market_id  created_at  actual_delivery_time  \\\n",
              "0             2.0    60521752              60521754   \n",
              "1             2.0    60523079              60523082   \n",
              "2             2.0    60543321              60543326   \n",
              "3             2.0    60530441              60530447   \n",
              "4             2.0    60522084              60522090   \n",
              "...           ...         ...                   ...   \n",
              "197413        2.0    60542167              60542823   \n",
              "197414        2.0    60552257              60553019   \n",
              "197415        3.0    60537731              60538534   \n",
              "197416        1.0    60553591              60554498   \n",
              "197417        2.0    60531978              60532928   \n",
              "\n",
              "                                store_id store_primary_category  \\\n",
              "0       c56a022b15250525f8b9bdfc41a13152                mexican   \n",
              "1       aa2a77371374094fe9e0bc1de3f94ed9               sandwich   \n",
              "2       d43ab110ab2489d6b9b2caa394bf920f                mexican   \n",
              "3       1afa34a7f984eeabdbb0a7d494132ee5                 indian   \n",
              "4       509421719867b607d48a0a1b0ae35c89               sandwich   \n",
              "...                                  ...                    ...   \n",
              "197413  5fc7c9bd1fcb12799f02da8adfa4954f                alcohol   \n",
              "197414  9380e398ee9bea45b992a3daaa6b7c4d                  pizza   \n",
              "197415  831b342d8a83408e5960e9b0c5f31f0c                   thai   \n",
              "197416  b132ecc1609bfcf302615847c1caa69a                 indian   \n",
              "197417  c1502ae5a4d514baec129f72948c266e                 burger   \n",
              "\n",
              "        order_protocol  total_items  subtotal  num_distinct_items  \\\n",
              "0                  2.0            3      1455                   2   \n",
              "1                  2.0            1      1195                   1   \n",
              "2                  5.0            1      1499                   1   \n",
              "3                  3.0            6      1950                   5   \n",
              "4                  2.0            7      2527                   4   \n",
              "...                ...          ...       ...                 ...   \n",
              "197413             5.0            3      2850                   3   \n",
              "197414             6.0            1       990                   1   \n",
              "197415             2.0            3      2185                   3   \n",
              "197416             3.0            4      3660                   4   \n",
              "197417             4.0            3      2379                   2   \n",
              "\n",
              "        min_item_price  Average_rate  max_item_price  total_onshift_partners  \\\n",
              "0                  355         550.0             745                    44.0   \n",
              "1                 1195        1195.0            1195                    60.0   \n",
              "2                  799         799.0             799                    67.0   \n",
              "3                  100         575.0            1050                    52.0   \n",
              "4                   69         434.0             799                    51.0   \n",
              "...                ...           ...             ...                     ...   \n",
              "197413             200         850.0            1500                    96.0   \n",
              "197414             795         795.0             795                   114.0   \n",
              "197415             495         745.0             995                    19.0   \n",
              "197416             375         785.0            1195                    71.0   \n",
              "197417             389         542.0             695                   109.0   \n",
              "\n",
              "        total_busy_partners  total_outstanding_orders  Actual_time  \n",
              "0                      48.0                      40.0            2  \n",
              "1                      74.0                      51.0            3  \n",
              "2                      58.0                      61.0            5  \n",
              "3                      54.0                      63.0            6  \n",
              "4                      63.0                      52.0            6  \n",
              "...                     ...                       ...          ...  \n",
              "197413                103.0                     156.0          656  \n",
              "197414                112.0                     184.0          762  \n",
              "197415                 19.0                      16.0          803  \n",
              "197416                 70.0                     111.0          907  \n",
              "197417                102.0                     163.0          950  \n",
              "\n",
              "[197418 rows x 16 columns]"
            ],
            "text/html": [
              "\n",
              "  <div id=\"df-fedbbb34-4cfb-4519-8ad1-391ac9632ca8\">\n",
              "    <div class=\"colab-df-container\">\n",
              "      <div>\n",
              "<style scoped>\n",
              "    .dataframe tbody tr th:only-of-type {\n",
              "        vertical-align: middle;\n",
              "    }\n",
              "\n",
              "    .dataframe tbody tr th {\n",
              "        vertical-align: top;\n",
              "    }\n",
              "\n",
              "    .dataframe thead th {\n",
              "        text-align: right;\n",
              "    }\n",
              "</style>\n",
              "<table border=\"1\" class=\"dataframe\">\n",
              "  <thead>\n",
              "    <tr style=\"text-align: right;\">\n",
              "      <th></th>\n",
              "      <th>market_id</th>\n",
              "      <th>created_at</th>\n",
              "      <th>actual_delivery_time</th>\n",
              "      <th>store_id</th>\n",
              "      <th>store_primary_category</th>\n",
              "      <th>order_protocol</th>\n",
              "      <th>total_items</th>\n",
              "      <th>subtotal</th>\n",
              "      <th>num_distinct_items</th>\n",
              "      <th>min_item_price</th>\n",
              "      <th>Average_rate</th>\n",
              "      <th>max_item_price</th>\n",
              "      <th>total_onshift_partners</th>\n",
              "      <th>total_busy_partners</th>\n",
              "      <th>total_outstanding_orders</th>\n",
              "      <th>Actual_time</th>\n",
              "    </tr>\n",
              "  </thead>\n",
              "  <tbody>\n",
              "    <tr>\n",
              "      <th>0</th>\n",
              "      <td>2.0</td>\n",
              "      <td>60521752</td>\n",
              "      <td>60521754</td>\n",
              "      <td>c56a022b15250525f8b9bdfc41a13152</td>\n",
              "      <td>mexican</td>\n",
              "      <td>2.0</td>\n",
              "      <td>3</td>\n",
              "      <td>1455</td>\n",
              "      <td>2</td>\n",
              "      <td>355</td>\n",
              "      <td>550.0</td>\n",
              "      <td>745</td>\n",
              "      <td>44.0</td>\n",
              "      <td>48.0</td>\n",
              "      <td>40.0</td>\n",
              "      <td>2</td>\n",
              "    </tr>\n",
              "    <tr>\n",
              "      <th>1</th>\n",
              "      <td>2.0</td>\n",
              "      <td>60523079</td>\n",
              "      <td>60523082</td>\n",
              "      <td>aa2a77371374094fe9e0bc1de3f94ed9</td>\n",
              "      <td>sandwich</td>\n",
              "      <td>2.0</td>\n",
              "      <td>1</td>\n",
              "      <td>1195</td>\n",
              "      <td>1</td>\n",
              "      <td>1195</td>\n",
              "      <td>1195.0</td>\n",
              "      <td>1195</td>\n",
              "      <td>60.0</td>\n",
              "      <td>74.0</td>\n",
              "      <td>51.0</td>\n",
              "      <td>3</td>\n",
              "    </tr>\n",
              "    <tr>\n",
              "      <th>2</th>\n",
              "      <td>2.0</td>\n",
              "      <td>60543321</td>\n",
              "      <td>60543326</td>\n",
              "      <td>d43ab110ab2489d6b9b2caa394bf920f</td>\n",
              "      <td>mexican</td>\n",
              "      <td>5.0</td>\n",
              "      <td>1</td>\n",
              "      <td>1499</td>\n",
              "      <td>1</td>\n",
              "      <td>799</td>\n",
              "      <td>799.0</td>\n",
              "      <td>799</td>\n",
              "      <td>67.0</td>\n",
              "      <td>58.0</td>\n",
              "      <td>61.0</td>\n",
              "      <td>5</td>\n",
              "    </tr>\n",
              "    <tr>\n",
              "      <th>3</th>\n",
              "      <td>2.0</td>\n",
              "      <td>60530441</td>\n",
              "      <td>60530447</td>\n",
              "      <td>1afa34a7f984eeabdbb0a7d494132ee5</td>\n",
              "      <td>indian</td>\n",
              "      <td>3.0</td>\n",
              "      <td>6</td>\n",
              "      <td>1950</td>\n",
              "      <td>5</td>\n",
              "      <td>100</td>\n",
              "      <td>575.0</td>\n",
              "      <td>1050</td>\n",
              "      <td>52.0</td>\n",
              "      <td>54.0</td>\n",
              "      <td>63.0</td>\n",
              "      <td>6</td>\n",
              "    </tr>\n",
              "    <tr>\n",
              "      <th>4</th>\n",
              "      <td>2.0</td>\n",
              "      <td>60522084</td>\n",
              "      <td>60522090</td>\n",
              "      <td>509421719867b607d48a0a1b0ae35c89</td>\n",
              "      <td>sandwich</td>\n",
              "      <td>2.0</td>\n",
              "      <td>7</td>\n",
              "      <td>2527</td>\n",
              "      <td>4</td>\n",
              "      <td>69</td>\n",
              "      <td>434.0</td>\n",
              "      <td>799</td>\n",
              "      <td>51.0</td>\n",
              "      <td>63.0</td>\n",
              "      <td>52.0</td>\n",
              "      <td>6</td>\n",
              "    </tr>\n",
              "    <tr>\n",
              "      <th>...</th>\n",
              "      <td>...</td>\n",
              "      <td>...</td>\n",
              "      <td>...</td>\n",
              "      <td>...</td>\n",
              "      <td>...</td>\n",
              "      <td>...</td>\n",
              "      <td>...</td>\n",
              "      <td>...</td>\n",
              "      <td>...</td>\n",
              "      <td>...</td>\n",
              "      <td>...</td>\n",
              "      <td>...</td>\n",
              "      <td>...</td>\n",
              "      <td>...</td>\n",
              "      <td>...</td>\n",
              "      <td>...</td>\n",
              "    </tr>\n",
              "    <tr>\n",
              "      <th>197413</th>\n",
              "      <td>2.0</td>\n",
              "      <td>60542167</td>\n",
              "      <td>60542823</td>\n",
              "      <td>5fc7c9bd1fcb12799f02da8adfa4954f</td>\n",
              "      <td>alcohol</td>\n",
              "      <td>5.0</td>\n",
              "      <td>3</td>\n",
              "      <td>2850</td>\n",
              "      <td>3</td>\n",
              "      <td>200</td>\n",
              "      <td>850.0</td>\n",
              "      <td>1500</td>\n",
              "      <td>96.0</td>\n",
              "      <td>103.0</td>\n",
              "      <td>156.0</td>\n",
              "      <td>656</td>\n",
              "    </tr>\n",
              "    <tr>\n",
              "      <th>197414</th>\n",
              "      <td>2.0</td>\n",
              "      <td>60552257</td>\n",
              "      <td>60553019</td>\n",
              "      <td>9380e398ee9bea45b992a3daaa6b7c4d</td>\n",
              "      <td>pizza</td>\n",
              "      <td>6.0</td>\n",
              "      <td>1</td>\n",
              "      <td>990</td>\n",
              "      <td>1</td>\n",
              "      <td>795</td>\n",
              "      <td>795.0</td>\n",
              "      <td>795</td>\n",
              "      <td>114.0</td>\n",
              "      <td>112.0</td>\n",
              "      <td>184.0</td>\n",
              "      <td>762</td>\n",
              "    </tr>\n",
              "    <tr>\n",
              "      <th>197415</th>\n",
              "      <td>3.0</td>\n",
              "      <td>60537731</td>\n",
              "      <td>60538534</td>\n",
              "      <td>831b342d8a83408e5960e9b0c5f31f0c</td>\n",
              "      <td>thai</td>\n",
              "      <td>2.0</td>\n",
              "      <td>3</td>\n",
              "      <td>2185</td>\n",
              "      <td>3</td>\n",
              "      <td>495</td>\n",
              "      <td>745.0</td>\n",
              "      <td>995</td>\n",
              "      <td>19.0</td>\n",
              "      <td>19.0</td>\n",
              "      <td>16.0</td>\n",
              "      <td>803</td>\n",
              "    </tr>\n",
              "    <tr>\n",
              "      <th>197416</th>\n",
              "      <td>1.0</td>\n",
              "      <td>60553591</td>\n",
              "      <td>60554498</td>\n",
              "      <td>b132ecc1609bfcf302615847c1caa69a</td>\n",
              "      <td>indian</td>\n",
              "      <td>3.0</td>\n",
              "      <td>4</td>\n",
              "      <td>3660</td>\n",
              "      <td>4</td>\n",
              "      <td>375</td>\n",
              "      <td>785.0</td>\n",
              "      <td>1195</td>\n",
              "      <td>71.0</td>\n",
              "      <td>70.0</td>\n",
              "      <td>111.0</td>\n",
              "      <td>907</td>\n",
              "    </tr>\n",
              "    <tr>\n",
              "      <th>197417</th>\n",
              "      <td>2.0</td>\n",
              "      <td>60531978</td>\n",
              "      <td>60532928</td>\n",
              "      <td>c1502ae5a4d514baec129f72948c266e</td>\n",
              "      <td>burger</td>\n",
              "      <td>4.0</td>\n",
              "      <td>3</td>\n",
              "      <td>2379</td>\n",
              "      <td>2</td>\n",
              "      <td>389</td>\n",
              "      <td>542.0</td>\n",
              "      <td>695</td>\n",
              "      <td>109.0</td>\n",
              "      <td>102.0</td>\n",
              "      <td>163.0</td>\n",
              "      <td>950</td>\n",
              "    </tr>\n",
              "  </tbody>\n",
              "</table>\n",
              "<p>197418 rows × 16 columns</p>\n",
              "</div>\n",
              "      <button class=\"colab-df-convert\" onclick=\"convertToInteractive('df-fedbbb34-4cfb-4519-8ad1-391ac9632ca8')\"\n",
              "              title=\"Convert this dataframe to an interactive table.\"\n",
              "              style=\"display:none;\">\n",
              "        \n",
              "  <svg xmlns=\"http://www.w3.org/2000/svg\" height=\"24px\"viewBox=\"0 0 24 24\"\n",
              "       width=\"24px\">\n",
              "    <path d=\"M0 0h24v24H0V0z\" fill=\"none\"/>\n",
              "    <path d=\"M18.56 5.44l.94 2.06.94-2.06 2.06-.94-2.06-.94-.94-2.06-.94 2.06-2.06.94zm-11 1L8.5 8.5l.94-2.06 2.06-.94-2.06-.94L8.5 2.5l-.94 2.06-2.06.94zm10 10l.94 2.06.94-2.06 2.06-.94-2.06-.94-.94-2.06-.94 2.06-2.06.94z\"/><path d=\"M17.41 7.96l-1.37-1.37c-.4-.4-.92-.59-1.43-.59-.52 0-1.04.2-1.43.59L10.3 9.45l-7.72 7.72c-.78.78-.78 2.05 0 2.83L4 21.41c.39.39.9.59 1.41.59.51 0 1.02-.2 1.41-.59l7.78-7.78 2.81-2.81c.8-.78.8-2.07 0-2.86zM5.41 20L4 18.59l7.72-7.72 1.47 1.35L5.41 20z\"/>\n",
              "  </svg>\n",
              "      </button>\n",
              "      \n",
              "  <style>\n",
              "    .colab-df-container {\n",
              "      display:flex;\n",
              "      flex-wrap:wrap;\n",
              "      gap: 12px;\n",
              "    }\n",
              "\n",
              "    .colab-df-convert {\n",
              "      background-color: #E8F0FE;\n",
              "      border: none;\n",
              "      border-radius: 50%;\n",
              "      cursor: pointer;\n",
              "      display: none;\n",
              "      fill: #1967D2;\n",
              "      height: 32px;\n",
              "      padding: 0 0 0 0;\n",
              "      width: 32px;\n",
              "    }\n",
              "\n",
              "    .colab-df-convert:hover {\n",
              "      background-color: #E2EBFA;\n",
              "      box-shadow: 0px 1px 2px rgba(60, 64, 67, 0.3), 0px 1px 3px 1px rgba(60, 64, 67, 0.15);\n",
              "      fill: #174EA6;\n",
              "    }\n",
              "\n",
              "    [theme=dark] .colab-df-convert {\n",
              "      background-color: #3B4455;\n",
              "      fill: #D2E3FC;\n",
              "    }\n",
              "\n",
              "    [theme=dark] .colab-df-convert:hover {\n",
              "      background-color: #434B5C;\n",
              "      box-shadow: 0px 1px 3px 1px rgba(0, 0, 0, 0.15);\n",
              "      filter: drop-shadow(0px 1px 2px rgba(0, 0, 0, 0.3));\n",
              "      fill: #FFFFFF;\n",
              "    }\n",
              "  </style>\n",
              "\n",
              "      <script>\n",
              "        const buttonEl =\n",
              "          document.querySelector('#df-fedbbb34-4cfb-4519-8ad1-391ac9632ca8 button.colab-df-convert');\n",
              "        buttonEl.style.display =\n",
              "          google.colab.kernel.accessAllowed ? 'block' : 'none';\n",
              "\n",
              "        async function convertToInteractive(key) {\n",
              "          const element = document.querySelector('#df-fedbbb34-4cfb-4519-8ad1-391ac9632ca8');\n",
              "          const dataTable =\n",
              "            await google.colab.kernel.invokeFunction('convertToInteractive',\n",
              "                                                     [key], {});\n",
              "          if (!dataTable) return;\n",
              "\n",
              "          const docLinkHtml = 'Like what you see? Visit the ' +\n",
              "            '<a target=\"_blank\" href=https://colab.research.google.com/notebooks/data_table.ipynb>data table notebook</a>'\n",
              "            + ' to learn more about interactive tables.';\n",
              "          element.innerHTML = '';\n",
              "          dataTable['output_type'] = 'display_data';\n",
              "          await google.colab.output.renderOutput(dataTable, element);\n",
              "          const docLink = document.createElement('div');\n",
              "          docLink.innerHTML = docLinkHtml;\n",
              "          element.appendChild(docLink);\n",
              "        }\n",
              "      </script>\n",
              "    </div>\n",
              "  </div>\n",
              "  "
            ]
          },
          "metadata": {},
          "execution_count": 19
        }
      ]
    },
    {
      "cell_type": "code",
      "source": [
        "\n",
        "df.drop(['market_id','created_at','actual_delivery_time','store_id','store_primary_category','min_item_price','max_item_price'],axis=1,inplace=True)"
      ],
      "metadata": {
        "id": "HXP-wMGK8bWp"
      },
      "execution_count": 21,
      "outputs": []
    },
    {
      "cell_type": "code",
      "source": [
        "df.dtypes"
      ],
      "metadata": {
        "colab": {
          "base_uri": "https://localhost:8080/"
        },
        "id": "vKpIJDDR92ZQ",
        "outputId": "6e6ca325-2455-4ad6-f8c0-36e00abf0695"
      },
      "execution_count": 22,
      "outputs": [
        {
          "output_type": "execute_result",
          "data": {
            "text/plain": [
              "order_protocol              float64\n",
              "total_items                   int64\n",
              "subtotal                      int64\n",
              "num_distinct_items            int64\n",
              "Average_rate                float64\n",
              "total_onshift_partners      float64\n",
              "total_busy_partners         float64\n",
              "total_outstanding_orders    float64\n",
              "Actual_time                   int64\n",
              "dtype: object"
            ]
          },
          "metadata": {},
          "execution_count": 22
        }
      ]
    },
    {
      "cell_type": "code",
      "source": [
        "df.isna().sum()"
      ],
      "metadata": {
        "colab": {
          "base_uri": "https://localhost:8080/"
        },
        "id": "bjPk95WJ-Dqj",
        "outputId": "9e13267c-8666-4be4-86d4-16282d714165"
      },
      "execution_count": 26,
      "outputs": [
        {
          "output_type": "execute_result",
          "data": {
            "text/plain": [
              "order_protocol              0\n",
              "total_items                 0\n",
              "subtotal                    0\n",
              "num_distinct_items          0\n",
              "Average_rate                0\n",
              "total_onshift_partners      0\n",
              "total_busy_partners         0\n",
              "total_outstanding_orders    0\n",
              "Actual_time                 0\n",
              "dtype: int64"
            ]
          },
          "metadata": {},
          "execution_count": 26
        }
      ]
    },
    {
      "cell_type": "code",
      "source": [
        "lst=['order_protocol','total_onshift_partners','total_busy_partners','total_outstanding_orders']\n",
        "for i in lst:\n",
        "  df[i]=df[i].fillna(df[i].mode()[0])"
      ],
      "metadata": {
        "id": "i0_BFfWO-ISr"
      },
      "execution_count": 24,
      "outputs": []
    },
    {
      "cell_type": "markdown",
      "source": [
        "Preprocessing has been done using Excel sheet. The actual dataset contained two attributes **created_at** and **actual_delivery_time** which was in yyyy-mm-dd,HH:MM:SS format which was converted to minutes using Excel and the difference of both were taken to find the target column **Actual_time**. The Average of **min_item_price** and **max_item_price** were taken and the attribute **Average_rate** was found. Attributes **market_id**,**created_at**,**actual_delivery_time**,**store_id**,**store_primary_category**,**min_item_price**,**max_item_price** were dropped. Missing values in the columns were replaced using mode."
      ],
      "metadata": {
        "id": "EeonYX8kLQpZ"
      }
    },
    {
      "cell_type": "code",
      "source": [
        "df"
      ],
      "metadata": {
        "colab": {
          "base_uri": "https://localhost:8080/",
          "height": 423
        },
        "id": "2OIo4dfC-lZq",
        "outputId": "e86e82e2-2371-4947-84c8-6850e52695ba"
      },
      "execution_count": 25,
      "outputs": [
        {
          "output_type": "execute_result",
          "data": {
            "text/plain": [
              "        order_protocol  total_items  subtotal  num_distinct_items  \\\n",
              "0                  2.0            3      1455                   2   \n",
              "1                  2.0            1      1195                   1   \n",
              "2                  5.0            1      1499                   1   \n",
              "3                  3.0            6      1950                   5   \n",
              "4                  2.0            7      2527                   4   \n",
              "...                ...          ...       ...                 ...   \n",
              "197413             5.0            3      2850                   3   \n",
              "197414             6.0            1       990                   1   \n",
              "197415             2.0            3      2185                   3   \n",
              "197416             3.0            4      3660                   4   \n",
              "197417             4.0            3      2379                   2   \n",
              "\n",
              "        Average_rate  total_onshift_partners  total_busy_partners  \\\n",
              "0              550.0                    44.0                 48.0   \n",
              "1             1195.0                    60.0                 74.0   \n",
              "2              799.0                    67.0                 58.0   \n",
              "3              575.0                    52.0                 54.0   \n",
              "4              434.0                    51.0                 63.0   \n",
              "...              ...                     ...                  ...   \n",
              "197413         850.0                    96.0                103.0   \n",
              "197414         795.0                   114.0                112.0   \n",
              "197415         745.0                    19.0                 19.0   \n",
              "197416         785.0                    71.0                 70.0   \n",
              "197417         542.0                   109.0                102.0   \n",
              "\n",
              "        total_outstanding_orders  Actual_time  \n",
              "0                           40.0            2  \n",
              "1                           51.0            3  \n",
              "2                           61.0            5  \n",
              "3                           63.0            6  \n",
              "4                           52.0            6  \n",
              "...                          ...          ...  \n",
              "197413                     156.0          656  \n",
              "197414                     184.0          762  \n",
              "197415                      16.0          803  \n",
              "197416                     111.0          907  \n",
              "197417                     163.0          950  \n",
              "\n",
              "[197418 rows x 9 columns]"
            ],
            "text/html": [
              "\n",
              "  <div id=\"df-4cbd574e-9c57-4728-a611-b5fc40095d6c\">\n",
              "    <div class=\"colab-df-container\">\n",
              "      <div>\n",
              "<style scoped>\n",
              "    .dataframe tbody tr th:only-of-type {\n",
              "        vertical-align: middle;\n",
              "    }\n",
              "\n",
              "    .dataframe tbody tr th {\n",
              "        vertical-align: top;\n",
              "    }\n",
              "\n",
              "    .dataframe thead th {\n",
              "        text-align: right;\n",
              "    }\n",
              "</style>\n",
              "<table border=\"1\" class=\"dataframe\">\n",
              "  <thead>\n",
              "    <tr style=\"text-align: right;\">\n",
              "      <th></th>\n",
              "      <th>order_protocol</th>\n",
              "      <th>total_items</th>\n",
              "      <th>subtotal</th>\n",
              "      <th>num_distinct_items</th>\n",
              "      <th>Average_rate</th>\n",
              "      <th>total_onshift_partners</th>\n",
              "      <th>total_busy_partners</th>\n",
              "      <th>total_outstanding_orders</th>\n",
              "      <th>Actual_time</th>\n",
              "    </tr>\n",
              "  </thead>\n",
              "  <tbody>\n",
              "    <tr>\n",
              "      <th>0</th>\n",
              "      <td>2.0</td>\n",
              "      <td>3</td>\n",
              "      <td>1455</td>\n",
              "      <td>2</td>\n",
              "      <td>550.0</td>\n",
              "      <td>44.0</td>\n",
              "      <td>48.0</td>\n",
              "      <td>40.0</td>\n",
              "      <td>2</td>\n",
              "    </tr>\n",
              "    <tr>\n",
              "      <th>1</th>\n",
              "      <td>2.0</td>\n",
              "      <td>1</td>\n",
              "      <td>1195</td>\n",
              "      <td>1</td>\n",
              "      <td>1195.0</td>\n",
              "      <td>60.0</td>\n",
              "      <td>74.0</td>\n",
              "      <td>51.0</td>\n",
              "      <td>3</td>\n",
              "    </tr>\n",
              "    <tr>\n",
              "      <th>2</th>\n",
              "      <td>5.0</td>\n",
              "      <td>1</td>\n",
              "      <td>1499</td>\n",
              "      <td>1</td>\n",
              "      <td>799.0</td>\n",
              "      <td>67.0</td>\n",
              "      <td>58.0</td>\n",
              "      <td>61.0</td>\n",
              "      <td>5</td>\n",
              "    </tr>\n",
              "    <tr>\n",
              "      <th>3</th>\n",
              "      <td>3.0</td>\n",
              "      <td>6</td>\n",
              "      <td>1950</td>\n",
              "      <td>5</td>\n",
              "      <td>575.0</td>\n",
              "      <td>52.0</td>\n",
              "      <td>54.0</td>\n",
              "      <td>63.0</td>\n",
              "      <td>6</td>\n",
              "    </tr>\n",
              "    <tr>\n",
              "      <th>4</th>\n",
              "      <td>2.0</td>\n",
              "      <td>7</td>\n",
              "      <td>2527</td>\n",
              "      <td>4</td>\n",
              "      <td>434.0</td>\n",
              "      <td>51.0</td>\n",
              "      <td>63.0</td>\n",
              "      <td>52.0</td>\n",
              "      <td>6</td>\n",
              "    </tr>\n",
              "    <tr>\n",
              "      <th>...</th>\n",
              "      <td>...</td>\n",
              "      <td>...</td>\n",
              "      <td>...</td>\n",
              "      <td>...</td>\n",
              "      <td>...</td>\n",
              "      <td>...</td>\n",
              "      <td>...</td>\n",
              "      <td>...</td>\n",
              "      <td>...</td>\n",
              "    </tr>\n",
              "    <tr>\n",
              "      <th>197413</th>\n",
              "      <td>5.0</td>\n",
              "      <td>3</td>\n",
              "      <td>2850</td>\n",
              "      <td>3</td>\n",
              "      <td>850.0</td>\n",
              "      <td>96.0</td>\n",
              "      <td>103.0</td>\n",
              "      <td>156.0</td>\n",
              "      <td>656</td>\n",
              "    </tr>\n",
              "    <tr>\n",
              "      <th>197414</th>\n",
              "      <td>6.0</td>\n",
              "      <td>1</td>\n",
              "      <td>990</td>\n",
              "      <td>1</td>\n",
              "      <td>795.0</td>\n",
              "      <td>114.0</td>\n",
              "      <td>112.0</td>\n",
              "      <td>184.0</td>\n",
              "      <td>762</td>\n",
              "    </tr>\n",
              "    <tr>\n",
              "      <th>197415</th>\n",
              "      <td>2.0</td>\n",
              "      <td>3</td>\n",
              "      <td>2185</td>\n",
              "      <td>3</td>\n",
              "      <td>745.0</td>\n",
              "      <td>19.0</td>\n",
              "      <td>19.0</td>\n",
              "      <td>16.0</td>\n",
              "      <td>803</td>\n",
              "    </tr>\n",
              "    <tr>\n",
              "      <th>197416</th>\n",
              "      <td>3.0</td>\n",
              "      <td>4</td>\n",
              "      <td>3660</td>\n",
              "      <td>4</td>\n",
              "      <td>785.0</td>\n",
              "      <td>71.0</td>\n",
              "      <td>70.0</td>\n",
              "      <td>111.0</td>\n",
              "      <td>907</td>\n",
              "    </tr>\n",
              "    <tr>\n",
              "      <th>197417</th>\n",
              "      <td>4.0</td>\n",
              "      <td>3</td>\n",
              "      <td>2379</td>\n",
              "      <td>2</td>\n",
              "      <td>542.0</td>\n",
              "      <td>109.0</td>\n",
              "      <td>102.0</td>\n",
              "      <td>163.0</td>\n",
              "      <td>950</td>\n",
              "    </tr>\n",
              "  </tbody>\n",
              "</table>\n",
              "<p>197418 rows × 9 columns</p>\n",
              "</div>\n",
              "      <button class=\"colab-df-convert\" onclick=\"convertToInteractive('df-4cbd574e-9c57-4728-a611-b5fc40095d6c')\"\n",
              "              title=\"Convert this dataframe to an interactive table.\"\n",
              "              style=\"display:none;\">\n",
              "        \n",
              "  <svg xmlns=\"http://www.w3.org/2000/svg\" height=\"24px\"viewBox=\"0 0 24 24\"\n",
              "       width=\"24px\">\n",
              "    <path d=\"M0 0h24v24H0V0z\" fill=\"none\"/>\n",
              "    <path d=\"M18.56 5.44l.94 2.06.94-2.06 2.06-.94-2.06-.94-.94-2.06-.94 2.06-2.06.94zm-11 1L8.5 8.5l.94-2.06 2.06-.94-2.06-.94L8.5 2.5l-.94 2.06-2.06.94zm10 10l.94 2.06.94-2.06 2.06-.94-2.06-.94-.94-2.06-.94 2.06-2.06.94z\"/><path d=\"M17.41 7.96l-1.37-1.37c-.4-.4-.92-.59-1.43-.59-.52 0-1.04.2-1.43.59L10.3 9.45l-7.72 7.72c-.78.78-.78 2.05 0 2.83L4 21.41c.39.39.9.59 1.41.59.51 0 1.02-.2 1.41-.59l7.78-7.78 2.81-2.81c.8-.78.8-2.07 0-2.86zM5.41 20L4 18.59l7.72-7.72 1.47 1.35L5.41 20z\"/>\n",
              "  </svg>\n",
              "      </button>\n",
              "      \n",
              "  <style>\n",
              "    .colab-df-container {\n",
              "      display:flex;\n",
              "      flex-wrap:wrap;\n",
              "      gap: 12px;\n",
              "    }\n",
              "\n",
              "    .colab-df-convert {\n",
              "      background-color: #E8F0FE;\n",
              "      border: none;\n",
              "      border-radius: 50%;\n",
              "      cursor: pointer;\n",
              "      display: none;\n",
              "      fill: #1967D2;\n",
              "      height: 32px;\n",
              "      padding: 0 0 0 0;\n",
              "      width: 32px;\n",
              "    }\n",
              "\n",
              "    .colab-df-convert:hover {\n",
              "      background-color: #E2EBFA;\n",
              "      box-shadow: 0px 1px 2px rgba(60, 64, 67, 0.3), 0px 1px 3px 1px rgba(60, 64, 67, 0.15);\n",
              "      fill: #174EA6;\n",
              "    }\n",
              "\n",
              "    [theme=dark] .colab-df-convert {\n",
              "      background-color: #3B4455;\n",
              "      fill: #D2E3FC;\n",
              "    }\n",
              "\n",
              "    [theme=dark] .colab-df-convert:hover {\n",
              "      background-color: #434B5C;\n",
              "      box-shadow: 0px 1px 3px 1px rgba(0, 0, 0, 0.15);\n",
              "      filter: drop-shadow(0px 1px 2px rgba(0, 0, 0, 0.3));\n",
              "      fill: #FFFFFF;\n",
              "    }\n",
              "  </style>\n",
              "\n",
              "      <script>\n",
              "        const buttonEl =\n",
              "          document.querySelector('#df-4cbd574e-9c57-4728-a611-b5fc40095d6c button.colab-df-convert');\n",
              "        buttonEl.style.display =\n",
              "          google.colab.kernel.accessAllowed ? 'block' : 'none';\n",
              "\n",
              "        async function convertToInteractive(key) {\n",
              "          const element = document.querySelector('#df-4cbd574e-9c57-4728-a611-b5fc40095d6c');\n",
              "          const dataTable =\n",
              "            await google.colab.kernel.invokeFunction('convertToInteractive',\n",
              "                                                     [key], {});\n",
              "          if (!dataTable) return;\n",
              "\n",
              "          const docLinkHtml = 'Like what you see? Visit the ' +\n",
              "            '<a target=\"_blank\" href=https://colab.research.google.com/notebooks/data_table.ipynb>data table notebook</a>'\n",
              "            + ' to learn more about interactive tables.';\n",
              "          element.innerHTML = '';\n",
              "          dataTable['output_type'] = 'display_data';\n",
              "          await google.colab.output.renderOutput(dataTable, element);\n",
              "          const docLink = document.createElement('div');\n",
              "          docLink.innerHTML = docLinkHtml;\n",
              "          element.appendChild(docLink);\n",
              "        }\n",
              "      </script>\n",
              "    </div>\n",
              "  </div>\n",
              "  "
            ]
          },
          "metadata": {},
          "execution_count": 25
        }
      ]
    },
    {
      "cell_type": "code",
      "source": [
        "X=df.iloc[:,:-1]\n",
        "y=df.iloc[:,-1]"
      ],
      "metadata": {
        "id": "GgPQmoqj-pL3"
      },
      "execution_count": 27,
      "outputs": []
    },
    {
      "cell_type": "code",
      "source": [
        "#scaling the dataset using MinMaxScaler\n",
        "from sklearn.preprocessing import MinMaxScaler\n",
        "ms=MinMaxScaler()\n",
        "X_sc=ms.fit_transform(X)"
      ],
      "metadata": {
        "id": "PbiHL5JT-wal"
      },
      "execution_count": 28,
      "outputs": []
    },
    {
      "cell_type": "code",
      "source": [
        "#Performing train_test_split\n",
        "from sklearn.model_selection import train_test_split\n",
        "X_train,X_test,y_train,y_test=train_test_split(X_sc,y,test_size=0.3,random_state=0)"
      ],
      "metadata": {
        "id": "xuzoT31T_DMo"
      },
      "execution_count": 29,
      "outputs": []
    },
    {
      "cell_type": "code",
      "source": [
        "X_train.shape"
      ],
      "metadata": {
        "colab": {
          "base_uri": "https://localhost:8080/"
        },
        "id": "xFtknwRJGRFe",
        "outputId": "7de88fd6-bcad-45e4-c395-c8baeb0188c1"
      },
      "execution_count": 42,
      "outputs": [
        {
          "output_type": "execute_result",
          "data": {
            "text/plain": [
              "(138192, 8)"
            ]
          },
          "metadata": {},
          "execution_count": 42
        }
      ]
    },
    {
      "cell_type": "code",
      "source": [
        "y_train.shape"
      ],
      "metadata": {
        "colab": {
          "base_uri": "https://localhost:8080/"
        },
        "id": "N2EzSfwmGULw",
        "outputId": "1185bf56-ebdf-46b0-cc34-0b1665dbbec2"
      },
      "execution_count": 43,
      "outputs": [
        {
          "output_type": "execute_result",
          "data": {
            "text/plain": [
              "(138192,)"
            ]
          },
          "metadata": {},
          "execution_count": 43
        }
      ]
    },
    {
      "cell_type": "code",
      "source": [
        "#model building using Multiple regression\n",
        "from sklearn.linear_model import LinearRegression\n",
        "mlr=LinearRegression()\n",
        "mlr.fit(X_train,y_train)"
      ],
      "metadata": {
        "colab": {
          "base_uri": "https://localhost:8080/",
          "height": 74
        },
        "id": "YJFC9u6o_XmN",
        "outputId": "44a5ca71-7453-402f-8563-39a594775c0c"
      },
      "execution_count": 30,
      "outputs": [
        {
          "output_type": "execute_result",
          "data": {
            "text/plain": [
              "LinearRegression()"
            ],
            "text/html": [
              "<style>#sk-container-id-1 {color: black;background-color: white;}#sk-container-id-1 pre{padding: 0;}#sk-container-id-1 div.sk-toggleable {background-color: white;}#sk-container-id-1 label.sk-toggleable__label {cursor: pointer;display: block;width: 100%;margin-bottom: 0;padding: 0.3em;box-sizing: border-box;text-align: center;}#sk-container-id-1 label.sk-toggleable__label-arrow:before {content: \"▸\";float: left;margin-right: 0.25em;color: #696969;}#sk-container-id-1 label.sk-toggleable__label-arrow:hover:before {color: black;}#sk-container-id-1 div.sk-estimator:hover label.sk-toggleable__label-arrow:before {color: black;}#sk-container-id-1 div.sk-toggleable__content {max-height: 0;max-width: 0;overflow: hidden;text-align: left;background-color: #f0f8ff;}#sk-container-id-1 div.sk-toggleable__content pre {margin: 0.2em;color: black;border-radius: 0.25em;background-color: #f0f8ff;}#sk-container-id-1 input.sk-toggleable__control:checked~div.sk-toggleable__content {max-height: 200px;max-width: 100%;overflow: auto;}#sk-container-id-1 input.sk-toggleable__control:checked~label.sk-toggleable__label-arrow:before {content: \"▾\";}#sk-container-id-1 div.sk-estimator input.sk-toggleable__control:checked~label.sk-toggleable__label {background-color: #d4ebff;}#sk-container-id-1 div.sk-label input.sk-toggleable__control:checked~label.sk-toggleable__label {background-color: #d4ebff;}#sk-container-id-1 input.sk-hidden--visually {border: 0;clip: rect(1px 1px 1px 1px);clip: rect(1px, 1px, 1px, 1px);height: 1px;margin: -1px;overflow: hidden;padding: 0;position: absolute;width: 1px;}#sk-container-id-1 div.sk-estimator {font-family: monospace;background-color: #f0f8ff;border: 1px dotted black;border-radius: 0.25em;box-sizing: border-box;margin-bottom: 0.5em;}#sk-container-id-1 div.sk-estimator:hover {background-color: #d4ebff;}#sk-container-id-1 div.sk-parallel-item::after {content: \"\";width: 100%;border-bottom: 1px solid gray;flex-grow: 1;}#sk-container-id-1 div.sk-label:hover label.sk-toggleable__label {background-color: #d4ebff;}#sk-container-id-1 div.sk-serial::before {content: \"\";position: absolute;border-left: 1px solid gray;box-sizing: border-box;top: 0;bottom: 0;left: 50%;z-index: 0;}#sk-container-id-1 div.sk-serial {display: flex;flex-direction: column;align-items: center;background-color: white;padding-right: 0.2em;padding-left: 0.2em;position: relative;}#sk-container-id-1 div.sk-item {position: relative;z-index: 1;}#sk-container-id-1 div.sk-parallel {display: flex;align-items: stretch;justify-content: center;background-color: white;position: relative;}#sk-container-id-1 div.sk-item::before, #sk-container-id-1 div.sk-parallel-item::before {content: \"\";position: absolute;border-left: 1px solid gray;box-sizing: border-box;top: 0;bottom: 0;left: 50%;z-index: -1;}#sk-container-id-1 div.sk-parallel-item {display: flex;flex-direction: column;z-index: 1;position: relative;background-color: white;}#sk-container-id-1 div.sk-parallel-item:first-child::after {align-self: flex-end;width: 50%;}#sk-container-id-1 div.sk-parallel-item:last-child::after {align-self: flex-start;width: 50%;}#sk-container-id-1 div.sk-parallel-item:only-child::after {width: 0;}#sk-container-id-1 div.sk-dashed-wrapped {border: 1px dashed gray;margin: 0 0.4em 0.5em 0.4em;box-sizing: border-box;padding-bottom: 0.4em;background-color: white;}#sk-container-id-1 div.sk-label label {font-family: monospace;font-weight: bold;display: inline-block;line-height: 1.2em;}#sk-container-id-1 div.sk-label-container {text-align: center;}#sk-container-id-1 div.sk-container {/* jupyter's `normalize.less` sets `[hidden] { display: none; }` but bootstrap.min.css set `[hidden] { display: none !important; }` so we also need the `!important` here to be able to override the default hidden behavior on the sphinx rendered scikit-learn.org. See: https://github.com/scikit-learn/scikit-learn/issues/21755 */display: inline-block !important;position: relative;}#sk-container-id-1 div.sk-text-repr-fallback {display: none;}</style><div id=\"sk-container-id-1\" class=\"sk-top-container\"><div class=\"sk-text-repr-fallback\"><pre>LinearRegression()</pre><b>In a Jupyter environment, please rerun this cell to show the HTML representation or trust the notebook. <br />On GitHub, the HTML representation is unable to render, please try loading this page with nbviewer.org.</b></div><div class=\"sk-container\" hidden><div class=\"sk-item\"><div class=\"sk-estimator sk-toggleable\"><input class=\"sk-toggleable__control sk-hidden--visually\" id=\"sk-estimator-id-1\" type=\"checkbox\" checked><label for=\"sk-estimator-id-1\" class=\"sk-toggleable__label sk-toggleable__label-arrow\">LinearRegression</label><div class=\"sk-toggleable__content\"><pre>LinearRegression()</pre></div></div></div></div></div>"
            ]
          },
          "metadata": {},
          "execution_count": 30
        }
      ]
    },
    {
      "cell_type": "code",
      "source": [
        "y_pred=mlr.predict(X_test)\n",
        "y_pred"
      ],
      "metadata": {
        "colab": {
          "base_uri": "https://localhost:8080/"
        },
        "id": "Y_1Nku1m_wSH",
        "outputId": "5c380556-4e91-4992-f7bb-15ab4d97a3d9"
      },
      "execution_count": 31,
      "outputs": [
        {
          "output_type": "execute_result",
          "data": {
            "text/plain": [
              "array([45.97546569, 48.36210813, 64.18481564, ..., 47.37689494,\n",
              "       41.85417192, 49.32127187])"
            ]
          },
          "metadata": {},
          "execution_count": 31
        }
      ]
    },
    {
      "cell_type": "code",
      "source": [
        "y_test.values"
      ],
      "metadata": {
        "colab": {
          "base_uri": "https://localhost:8080/"
        },
        "id": "bUh2zqB7_5zm",
        "outputId": "b61ab8f6-b152-4c0a-b448-3d3b5dd193bf"
      },
      "execution_count": 32,
      "outputs": [
        {
          "output_type": "execute_result",
          "data": {
            "text/plain": [
              "array([34, 62, 47, ..., 48, 45, 49])"
            ]
          },
          "metadata": {},
          "execution_count": 32
        }
      ]
    },
    {
      "cell_type": "code",
      "source": [
        "#Comparing Actual and predicted Values\n",
        "Result=pd.DataFrame({'Actual Values':y_test,'Predicted Values':y_pred})\n",
        "Result"
      ],
      "metadata": {
        "colab": {
          "base_uri": "https://localhost:8080/",
          "height": 423
        },
        "id": "zDWa123FAbyJ",
        "outputId": "4ff8a08e-b48a-4abe-b3fe-4aaf0af19ac2"
      },
      "execution_count": 37,
      "outputs": [
        {
          "output_type": "execute_result",
          "data": {
            "text/plain": [
              "        Actual Values  Predicted Values\n",
              "42623              34         45.975466\n",
              "163836             62         48.362108\n",
              "114029             47         64.184816\n",
              "175729             69         42.711898\n",
              "110050             47         47.022399\n",
              "...               ...               ...\n",
              "2603               20         43.307347\n",
              "187067             80         62.857953\n",
              "116988             48         47.376895\n",
              "102029             45         41.854172\n",
              "120862             49         49.321272\n",
              "\n",
              "[59226 rows x 2 columns]"
            ],
            "text/html": [
              "\n",
              "  <div id=\"df-85371053-39c3-46f9-879c-600981d2842b\">\n",
              "    <div class=\"colab-df-container\">\n",
              "      <div>\n",
              "<style scoped>\n",
              "    .dataframe tbody tr th:only-of-type {\n",
              "        vertical-align: middle;\n",
              "    }\n",
              "\n",
              "    .dataframe tbody tr th {\n",
              "        vertical-align: top;\n",
              "    }\n",
              "\n",
              "    .dataframe thead th {\n",
              "        text-align: right;\n",
              "    }\n",
              "</style>\n",
              "<table border=\"1\" class=\"dataframe\">\n",
              "  <thead>\n",
              "    <tr style=\"text-align: right;\">\n",
              "      <th></th>\n",
              "      <th>Actual Values</th>\n",
              "      <th>Predicted Values</th>\n",
              "    </tr>\n",
              "  </thead>\n",
              "  <tbody>\n",
              "    <tr>\n",
              "      <th>42623</th>\n",
              "      <td>34</td>\n",
              "      <td>45.975466</td>\n",
              "    </tr>\n",
              "    <tr>\n",
              "      <th>163836</th>\n",
              "      <td>62</td>\n",
              "      <td>48.362108</td>\n",
              "    </tr>\n",
              "    <tr>\n",
              "      <th>114029</th>\n",
              "      <td>47</td>\n",
              "      <td>64.184816</td>\n",
              "    </tr>\n",
              "    <tr>\n",
              "      <th>175729</th>\n",
              "      <td>69</td>\n",
              "      <td>42.711898</td>\n",
              "    </tr>\n",
              "    <tr>\n",
              "      <th>110050</th>\n",
              "      <td>47</td>\n",
              "      <td>47.022399</td>\n",
              "    </tr>\n",
              "    <tr>\n",
              "      <th>...</th>\n",
              "      <td>...</td>\n",
              "      <td>...</td>\n",
              "    </tr>\n",
              "    <tr>\n",
              "      <th>2603</th>\n",
              "      <td>20</td>\n",
              "      <td>43.307347</td>\n",
              "    </tr>\n",
              "    <tr>\n",
              "      <th>187067</th>\n",
              "      <td>80</td>\n",
              "      <td>62.857953</td>\n",
              "    </tr>\n",
              "    <tr>\n",
              "      <th>116988</th>\n",
              "      <td>48</td>\n",
              "      <td>47.376895</td>\n",
              "    </tr>\n",
              "    <tr>\n",
              "      <th>102029</th>\n",
              "      <td>45</td>\n",
              "      <td>41.854172</td>\n",
              "    </tr>\n",
              "    <tr>\n",
              "      <th>120862</th>\n",
              "      <td>49</td>\n",
              "      <td>49.321272</td>\n",
              "    </tr>\n",
              "  </tbody>\n",
              "</table>\n",
              "<p>59226 rows × 2 columns</p>\n",
              "</div>\n",
              "      <button class=\"colab-df-convert\" onclick=\"convertToInteractive('df-85371053-39c3-46f9-879c-600981d2842b')\"\n",
              "              title=\"Convert this dataframe to an interactive table.\"\n",
              "              style=\"display:none;\">\n",
              "        \n",
              "  <svg xmlns=\"http://www.w3.org/2000/svg\" height=\"24px\"viewBox=\"0 0 24 24\"\n",
              "       width=\"24px\">\n",
              "    <path d=\"M0 0h24v24H0V0z\" fill=\"none\"/>\n",
              "    <path d=\"M18.56 5.44l.94 2.06.94-2.06 2.06-.94-2.06-.94-.94-2.06-.94 2.06-2.06.94zm-11 1L8.5 8.5l.94-2.06 2.06-.94-2.06-.94L8.5 2.5l-.94 2.06-2.06.94zm10 10l.94 2.06.94-2.06 2.06-.94-2.06-.94-.94-2.06-.94 2.06-2.06.94z\"/><path d=\"M17.41 7.96l-1.37-1.37c-.4-.4-.92-.59-1.43-.59-.52 0-1.04.2-1.43.59L10.3 9.45l-7.72 7.72c-.78.78-.78 2.05 0 2.83L4 21.41c.39.39.9.59 1.41.59.51 0 1.02-.2 1.41-.59l7.78-7.78 2.81-2.81c.8-.78.8-2.07 0-2.86zM5.41 20L4 18.59l7.72-7.72 1.47 1.35L5.41 20z\"/>\n",
              "  </svg>\n",
              "      </button>\n",
              "      \n",
              "  <style>\n",
              "    .colab-df-container {\n",
              "      display:flex;\n",
              "      flex-wrap:wrap;\n",
              "      gap: 12px;\n",
              "    }\n",
              "\n",
              "    .colab-df-convert {\n",
              "      background-color: #E8F0FE;\n",
              "      border: none;\n",
              "      border-radius: 50%;\n",
              "      cursor: pointer;\n",
              "      display: none;\n",
              "      fill: #1967D2;\n",
              "      height: 32px;\n",
              "      padding: 0 0 0 0;\n",
              "      width: 32px;\n",
              "    }\n",
              "\n",
              "    .colab-df-convert:hover {\n",
              "      background-color: #E2EBFA;\n",
              "      box-shadow: 0px 1px 2px rgba(60, 64, 67, 0.3), 0px 1px 3px 1px rgba(60, 64, 67, 0.15);\n",
              "      fill: #174EA6;\n",
              "    }\n",
              "\n",
              "    [theme=dark] .colab-df-convert {\n",
              "      background-color: #3B4455;\n",
              "      fill: #D2E3FC;\n",
              "    }\n",
              "\n",
              "    [theme=dark] .colab-df-convert:hover {\n",
              "      background-color: #434B5C;\n",
              "      box-shadow: 0px 1px 3px 1px rgba(0, 0, 0, 0.15);\n",
              "      filter: drop-shadow(0px 1px 2px rgba(0, 0, 0, 0.3));\n",
              "      fill: #FFFFFF;\n",
              "    }\n",
              "  </style>\n",
              "\n",
              "      <script>\n",
              "        const buttonEl =\n",
              "          document.querySelector('#df-85371053-39c3-46f9-879c-600981d2842b button.colab-df-convert');\n",
              "        buttonEl.style.display =\n",
              "          google.colab.kernel.accessAllowed ? 'block' : 'none';\n",
              "\n",
              "        async function convertToInteractive(key) {\n",
              "          const element = document.querySelector('#df-85371053-39c3-46f9-879c-600981d2842b');\n",
              "          const dataTable =\n",
              "            await google.colab.kernel.invokeFunction('convertToInteractive',\n",
              "                                                     [key], {});\n",
              "          if (!dataTable) return;\n",
              "\n",
              "          const docLinkHtml = 'Like what you see? Visit the ' +\n",
              "            '<a target=\"_blank\" href=https://colab.research.google.com/notebooks/data_table.ipynb>data table notebook</a>'\n",
              "            + ' to learn more about interactive tables.';\n",
              "          element.innerHTML = '';\n",
              "          dataTable['output_type'] = 'display_data';\n",
              "          await google.colab.output.renderOutput(dataTable, element);\n",
              "          const docLink = document.createElement('div');\n",
              "          docLink.innerHTML = docLinkHtml;\n",
              "          element.appendChild(docLink);\n",
              "        }\n",
              "      </script>\n",
              "    </div>\n",
              "  </div>\n",
              "  "
            ]
          },
          "metadata": {},
          "execution_count": 37
        }
      ]
    },
    {
      "cell_type": "code",
      "source": [
        "print('coefficient:',mlr.coef_)\n",
        "print('slope:',mlr.intercept_)"
      ],
      "metadata": {
        "colab": {
          "base_uri": "https://localhost:8080/"
        },
        "id": "LPUqpJ8c_9LD",
        "outputId": "c8271340-6403-4c9a-d4bf-4cc63cd94920"
      },
      "execution_count": 36,
      "outputs": [
        {
          "output_type": "stream",
          "name": "stdout",
          "text": [
            "coefficient: [ -4.33570386 -19.66829492  43.42443617  10.63415051  19.22964502\n",
            " -63.17169641 -21.09130172 103.71725077]\n",
            "slope: 43.574688964800316\n"
          ]
        }
      ]
    },
    {
      "cell_type": "code",
      "source": [
        "#model validation\n",
        "from sklearn.metrics import mean_absolute_error,mean_squared_error, r2_score\n",
        "import numpy as np\n",
        "print(\"mean absolute error:\",mean_absolute_error(y_test,y_pred))\n",
        "print(\"mean squared error:\",mean_squared_error(y_test,y_pred))\n",
        "print(\"root mean squared error:\",np.sqrt(mean_squared_error(y_test,y_pred)))\n",
        "print(\"r2-score:\",r2_score(y_test,y_pred))"
      ],
      "metadata": {
        "colab": {
          "base_uri": "https://localhost:8080/"
        },
        "id": "gqiTVSgHAwE6",
        "outputId": "d5fa1240-b3c2-4835-b03a-858966570508"
      },
      "execution_count": 38,
      "outputs": [
        {
          "output_type": "stream",
          "name": "stdout",
          "text": [
            "mean absolute error: 12.465569566950341\n",
            "mean squared error: 315.8295149976578\n",
            "root mean squared error: 17.771592922348233\n",
            "r2-score: 0.14186419223236657\n"
          ]
        }
      ]
    },
    {
      "cell_type": "code",
      "source": [
        "import warnings\n",
        "warnings.filterwarnings('ignore')\n",
        "y_new=mlr.predict(ms.transform([[5,1,3660,1,600,52,48,40]]))\n",
        "y_new"
      ],
      "metadata": {
        "colab": {
          "base_uri": "https://localhost:8080/"
        },
        "id": "_dfRqtmEG3yA",
        "outputId": "84e3dbb9-a1d3-42c0-d35f-6464f4fab6e5"
      },
      "execution_count": 45,
      "outputs": [
        {
          "output_type": "execute_result",
          "data": {
            "text/plain": [
              "array([36.48359567])"
            ]
          },
          "metadata": {},
          "execution_count": 45
        }
      ]
    },
    {
      "cell_type": "markdown",
      "source": [
        "After Model building the results obtained are\n",
        "\n",
        "mean absolute error: 12.465569566950341\n",
        "mean squared error: 315.8295149976578\n",
        "root mean squared error: 17.771592922348233\n",
        "r2-score: 0.14186419223236657\n",
        "\n",
        "predicting with separate values [5,1,3660,1,600,52,48,40] we get the delivery time as Approximately **36 minutes** "
      ],
      "metadata": {
        "id": "Nh5pkS31LxE9"
      }
    }
  ]
}